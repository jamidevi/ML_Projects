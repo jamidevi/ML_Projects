{
  "nbformat": 4,
  "nbformat_minor": 0,
  "metadata": {
    "colab": {
      "provenance": []
    },
    "kernelspec": {
      "name": "python3",
      "display_name": "Python 3"
    },
    "language_info": {
      "name": "python"
    }
  },
  "cells": [
    {
      "cell_type": "markdown",
      "source": [
        "# *Install Required libraries*"
      ],
      "metadata": {
        "id": "Qa4tr3oxtfaM"
      }
    },
    {
      "cell_type": "code",
      "source": [
        "pip install numpy pandas scikit-learn"
      ],
      "metadata": {
        "colab": {
          "base_uri": "https://localhost:8080/"
        },
        "id": "HP2iW1kptn86",
        "outputId": "8e36786e-d420-461f-9008-2f2ff1a8d441"
      },
      "execution_count": 1,
      "outputs": [
        {
          "output_type": "stream",
          "name": "stdout",
          "text": [
            "Requirement already satisfied: numpy in /usr/local/lib/python3.10/dist-packages (1.26.4)\n",
            "Requirement already satisfied: pandas in /usr/local/lib/python3.10/dist-packages (2.2.2)\n",
            "Requirement already satisfied: scikit-learn in /usr/local/lib/python3.10/dist-packages (1.5.2)\n",
            "Requirement already satisfied: python-dateutil>=2.8.2 in /usr/local/lib/python3.10/dist-packages (from pandas) (2.8.2)\n",
            "Requirement already satisfied: pytz>=2020.1 in /usr/local/lib/python3.10/dist-packages (from pandas) (2024.2)\n",
            "Requirement already satisfied: tzdata>=2022.7 in /usr/local/lib/python3.10/dist-packages (from pandas) (2024.2)\n",
            "Requirement already satisfied: scipy>=1.6.0 in /usr/local/lib/python3.10/dist-packages (from scikit-learn) (1.13.1)\n",
            "Requirement already satisfied: joblib>=1.2.0 in /usr/local/lib/python3.10/dist-packages (from scikit-learn) (1.4.2)\n",
            "Requirement already satisfied: threadpoolctl>=3.1.0 in /usr/local/lib/python3.10/dist-packages (from scikit-learn) (3.5.0)\n",
            "Requirement already satisfied: six>=1.5 in /usr/local/lib/python3.10/dist-packages (from python-dateutil>=2.8.2->pandas) (1.16.0)\n"
          ]
        }
      ]
    },
    {
      "cell_type": "markdown",
      "source": [
        "# *Prepare Data*"
      ],
      "metadata": {
        "id": "e4FY-jswuA3r"
      }
    },
    {
      "cell_type": "code",
      "source": [
        "import numpy as np\n",
        "import pandas as pd\n",
        "data={\n",
        "    'user_id':[1,1,1,2,2,2,3,3,3,4,4],\n",
        "    'item_id':[101,102,103,101,103,104,102,104,105,103,105],\n",
        "    'rating':[5,3,4,4,5,2,1,5,3,2,4]\n",
        "}\n",
        "df_ratings=pd.DataFrame(data)\n",
        "ratings_matrix=df_ratings.pivot(index='user_id',columns='item_id',values='rating').fillna(0)\n",
        "print(ratings_matrix)"
      ],
      "metadata": {
        "colab": {
          "base_uri": "https://localhost:8080/"
        },
        "id": "LRcsrkm4t58T",
        "outputId": "7a4c9129-b9f4-4b6c-90cf-a878df3a1720"
      },
      "execution_count": 5,
      "outputs": [
        {
          "output_type": "stream",
          "name": "stdout",
          "text": [
            "item_id  101  102  103  104  105\n",
            "user_id                         \n",
            "1        5.0  3.0  4.0  0.0  0.0\n",
            "2        4.0  0.0  5.0  2.0  0.0\n",
            "3        0.0  1.0  0.0  5.0  3.0\n",
            "4        0.0  0.0  2.0  0.0  4.0\n"
          ]
        }
      ]
    },
    {
      "cell_type": "markdown",
      "source": [
        "# *Build Recommender System*"
      ],
      "metadata": {
        "id": "sRIF2DmkwJUk"
      }
    },
    {
      "cell_type": "code",
      "source": [
        "from sklearn.decomposition import TruncatedSVD\n",
        "svd=TruncatedSVD(n_components=2)\n",
        "user_factors=svd.fit_transform(ratings_matrix)\n",
        "item_factors=svd.components_\n",
        "predicted_ratings=np.dot(user_factors,item_factors)\n",
        "predicted_ratings_df=pd.DataFrame(predicted_ratings,index=ratings_matrix.index,columns=ratings_matrix.columns)\n",
        "print(predicted_ratings_df)"
      ],
      "metadata": {
        "colab": {
          "base_uri": "https://localhost:8080/"
        },
        "id": "g9w8lA9Fuxrj",
        "outputId": "bd7e4d8b-fb1c-4c85-8d7e-5f80f67c136a"
      },
      "execution_count": 7,
      "outputs": [
        {
          "output_type": "stream",
          "name": "stdout",
          "text": [
            "item_id       101       102       103       104       105\n",
            "user_id                                                  \n",
            "1        4.745798  1.570881  4.694097  0.306985 -0.314598\n",
            "2        4.192479  1.514829  4.390191  1.307917  0.693323\n",
            "3       -0.323673  0.397791  0.646751  4.097661  3.879912\n",
            "4        0.542830  0.435686  1.027148  2.123306  1.920312\n"
          ]
        }
      ]
    },
    {
      "cell_type": "markdown",
      "source": [
        "# **Make Recommendations**"
      ],
      "metadata": {
        "id": "GtYAnqjIxX6Y"
      }
    },
    {
      "cell_type": "code",
      "source": [
        "def recommend_item(user_id,predicted_ratings_df,ratings_matrix,num_recommendations=2):\n",
        "  user_ratings=ratings_matrix.loc[user_id]\n",
        "  already_rated=user_ratings[user_ratings>0].index.tolist()\n",
        "  sorted_ratings=predicted_ratings_df.loc[user_id].sort_values(ascending=False)\n",
        "  recommendations=[item for item in sorted_ratings.index if item not in already_rated][:num_recommendations]\n",
        "  return recommendations\n",
        "recommendations=recommend_item(1,predicted_ratings_df,ratings_matrix)\n",
        "print(f\"Recommended items for user1:{recommendations}\")\n"
      ],
      "metadata": {
        "colab": {
          "base_uri": "https://localhost:8080/"
        },
        "id": "diuB4NCyxMvC",
        "outputId": "42a3943c-01b5-409b-e68b-62f258c83f4b"
      },
      "execution_count": 8,
      "outputs": [
        {
          "output_type": "stream",
          "name": "stdout",
          "text": [
            "Recommended items for user1:[104, 105]\n"
          ]
        }
      ]
    },
    {
      "cell_type": "markdown",
      "source": [
        "# *Explainability*"
      ],
      "metadata": {
        "id": "-dHYzaEOzm3q"
      }
    },
    {
      "cell_type": "code",
      "source": [
        "def explain_recommendation(user_id,item_id,user_factors,item_factors):\n",
        "  user_latent_factors=user_factors[user_id -1]\n",
        "  item_latent_factors=item_factors[:,item_id-ratings_matrix.columns[0]]\n",
        "  score=np.dot(user_latent_factors,item_latent_factors)\n",
        "  explanation = f\"Item {item_id} is recommended to User {user_id} because of the following factors:\\n\" \\\n",
        "                  f\"- User's preference profile: {user_latent_factors}\\n\" \\\n",
        "                  f\"- Item's attribute profile: {item_latent_factors}\\n\" \\\n",
        "                  f\"- Combined recommendation score: {score}\"\n",
        "\n",
        "  return explanation\n",
        "\n",
        "# Explain why item 102 is recommended to user 1\n",
        "explanation = explain_recommendation(1, 102, user_factors, item_factors)\n",
        "print(explanation)"
      ],
      "metadata": {
        "colab": {
          "base_uri": "https://localhost:8080/"
        },
        "id": "xlw3RmY5zAmC",
        "outputId": "2171232f-5450-457b-da20-e622ecba8060"
      },
      "execution_count": 10,
      "outputs": [
        {
          "output_type": "stream",
          "name": "stdout",
          "text": [
            "Item 102 is recommended to User 1 because of the following factors:\n",
            "- User's preference profile: [ 6.60308005 -1.90193368]\n",
            "- Item's attribute profile: [ 0.23551464 -0.00828565]\n",
            "- Combined recommendation score: 1.5708807650605896\n"
          ]
        }
      ]
    },
    {
      "cell_type": "code",
      "source": [],
      "metadata": {
        "id": "mwDiCzAX1FcK"
      },
      "execution_count": null,
      "outputs": []
    }
  ]
}